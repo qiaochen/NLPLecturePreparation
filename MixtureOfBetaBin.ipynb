{
 "cells": [
  {
   "cell_type": "code",
   "execution_count": 1,
   "metadata": {},
   "outputs": [],
   "source": [
    "import numpy as np"
   ]
  },
  {
   "cell_type": "markdown",
   "metadata": {},
   "source": [
    "## Derivations for EM of Mixture of Beta Binomial Distribution\n",
    "\n",
    "- Beta-Binomial Distribution (BB): \n",
    "$$\n",
    "\\begin{align}\n",
    "p(y^{(i)} | \\theta) &= \\int_{0}^{(1)}Bin(y^i|n,p) \\cdot Beta(p|\\alpha, \\beta) dp \\\\\n",
    "                &= {{n}\\choose{y^{(i)}}}\\frac{1}{B(\\alpha,\\beta)} \\int_{0}^{1} p^{y^{(i)}+ \\alpha -1} (1-p)^{n - y^{(i)} + \\beta - 1} dp   \\\\\n",
    "                &= {{n}\\choose{y^{(i)}}}\\frac{B(y^{(i)}+\\alpha, n-y^{(i)}+\\beta)}{B(\\alpha, \\beta)}\n",
    "\\end{align}\n",
    "$$\n",
    "\n",
    "- Mixture of Beta-Binomial Distribution (MBB), joint probablility, suppose there are K components, and let the variables be $\\mathbf{\\gamma} = [\\gamma_{0}, \\gamma_{1}, ..., \\gamma_{k}, \\gamma_{K}]$, $\\gamma_{k} \\text{~} Bin(\\gamma_{k}|\\pi_k)$:\n",
    "$$\n",
    "\\begin{align}\n",
    "p(y^{(i)}, \\gamma^{(i)} | \\theta, \\pi) &= \\prod_{k=1}^{K} p(y^{(i)}, \\gamma_{k}^{(i)}| \\theta_{k}, \\pi_k)^{\\gamma^{(i)}_k} \\\\\n",
    "                                                      &= \\prod_{k=1}^{K} \\{p(y^{(i)} | \\theta_{k}) \\pi_k \\}^{\\gamma_k^{(i)}}\n",
    "\\end{align}\n",
    "$$\n",
    "\n",
    "- Log likelihood of the full data (MBB):\n",
    "$$\n",
    "\\begin{align}\n",
    "\\log p(y^{(i)}, \\gamma^{(i)} | \\theta, \\pi) &= \\sum_{k=1}^{K} \\bigg \\{ \\gamma^{(i)}_k \\big(\\log\\pi_k + \\log p(y^{(i)} | \\theta_{k}) \\big)\n",
    "\\bigg\\} \n",
    "\\end{align}\n",
    "$$"
   ]
  },
  {
   "cell_type": "markdown",
   "metadata": {},
   "source": [
    "## E step:\n",
    "\n",
    "$$\n",
    "\\begin{align}\n",
    "E_{\\gamma^{(i)}_k \\text{~} p(\\pi_k|y^{(i)})}[\\log p(y^{(i)}, \\gamma^{(i)}] &= E\\bigg[\\sum_{k=1}^{K} \\big \\{ \\gamma^{(i)}_k \\big(\\log\\pi_k + \\log p(y^{(i)} | \\theta_k) \\big)\\big\\} \\bigg] \\\\\n",
    "                      &= \\sum_{k=1}^{K} \\big \\{ E[\\gamma^{(i)}_k] \\big(\\log\\pi_k + \\log p(y^{(i)} | \\theta_k) \\big)\\big\\} \\\\\n",
    "\\end{align}\n",
    "$$\n",
    "\n",
    "\n",
    "As:\n",
    "$$\n",
    "\\begin{align}\n",
    "\\bar{\\gamma}^{(i)} = E(\\gamma^{(i)}_k|y^{(i)}, \\theta, \\pi) &= p(\\gamma_k = 1| y^{(i)}, \\theta, \\pi)   \\text(- Expection of Bernoulli distribution)\\\\\n",
    "                                       &= \\frac{p(\\gamma^{(i)}_k=1, y^{(i)}| \\theta, \\pi)}{\\sum_{k=1}^{K}p(\\gamma_k^{(i)}=1, y^{(i)}| \\theta, \\pi)} \\\\\n",
    "                                       &= \\frac{p(y^{(i)}|\\gamma^{(i)}_k=1, \\theta, \\pi) \\cdot p(\\gamma^{(i)}_k=1|\\pi)}{\\sum_{k=1}^{K}p(y^{(i)}|\\gamma^{(i)}_k=1, \\theta, \\pi) \\cdot p(\\gamma^{(i)}_k=1|\\pi)} \\\\\n",
    "                                       &= \\frac{ {{n}\\choose{y^{(i)}}} \\frac{B(y^{(i)} + \\alpha_k, n-y^{(i)} + \\beta_k)}{B(\\alpha_k, \\beta_k)} \\cdot \\pi_k}{ \\sum_{k=1}^{K}{{n}\\choose{y^{(i)}}} \\frac{B(y^{(i)} + \\alpha_k, n-y^{(i)} + \\beta_k)}{B(\\alpha_k, \\beta_k)} \\cdot \\pi_k} \\\\\n",
    "                                       &= \\frac{\\frac{B(y^{(i)} + \\alpha_k, n-y^{(i)} + \\beta_k)}{B(\\alpha_k, \\beta_k)} \\cdot \\pi_k}{ \\sum_{k=1}^{K} \\frac{B(y^{(i)} + \\alpha_k, n-y^{(i)} + \\beta_k)}{B(\\alpha_k, \\beta_k)} \\cdot \\pi_k}\n",
    "\\end{align}\n",
    "$$\n",
    "\n",
    "## M step\n",
    "M-step hence is to optimize:\n",
    "\n",
    "$$\n",
    " \\max_{\\pi, \\theta}\\bigg\\{\\sum_{k=1}^{K} \\big \\{ \\bar{\\gamma}^{(i)} \\big(\\log\\pi_k + \\log p(y^{(i)} | \\theta_k) \\big)\\big\\} \\bigg\\} \\\\\n",
    " = \\max_{\\pi, \\theta}\\bigg\\{ \\sum_{k=1}^{K} \\big \\{ \\bar{\\gamma}^{(i)} \\big(\\log\\pi_k + \\log{{n}\\choose{y^{(i)}}} + \\log B(y^{(i)}+\\alpha_k, n-y^{(i)}+\\beta_k) - \\log{B(\\alpha_k, \\beta_k)} \\big)\\big\\} \\bigg\\}\n",
    "$$\n",
    "\n",
    "\n",
    "Using all the data points:\n",
    "\n",
    "$$\n",
    "\\max_{\\pi, \\theta}\\bigg\\{ \\sum_{i=1}^{N}\\sum_{k=1}^{K} \\big \\{ \\bar{\\gamma}^{(i)} \\big(\\log\\pi_k + \\log{{n}\\choose{y^{(i)}}} + \\log B(y^{(i)}+\\alpha_k, n-y^{(i)}+\\beta_k) - \\log{B(\\alpha_k, \\beta_k)} \\big)\\big\\} \\bigg\\}\n",
    "$$"
   ]
  }
 ],
 "metadata": {
  "kernelspec": {
   "display_name": "Python 3",
   "language": "python",
   "name": "python3"
  },
  "language_info": {
   "codemirror_mode": {
    "name": "ipython",
    "version": 3
   },
   "file_extension": ".py",
   "mimetype": "text/x-python",
   "name": "python",
   "nbconvert_exporter": "python",
   "pygments_lexer": "ipython3",
   "version": "3.7.6"
  }
 },
 "nbformat": 4,
 "nbformat_minor": 4
}
