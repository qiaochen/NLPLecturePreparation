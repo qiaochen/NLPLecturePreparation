{
  "nbformat": 4,
  "nbformat_minor": 0,
  "metadata": {
    "colab": {
      "name": "Optimization in Daily Life Code",
      "provenance": [],
      "collapsed_sections": []
    },
    "kernelspec": {
      "name": "python3",
      "display_name": "Python 3"
    }
  },
  "cells": [
    {
      "cell_type": "markdown",
      "metadata": {
        "id": "p8trVam-2o1P",
        "colab_type": "text"
      },
      "source": [
        "# 生活中的优化问题\n",
        "by Qiao for NLP8 2020-09-26\n",
        "- 问题描述请结合课件\n",
        "- 这里使用的solver使用scipy和cvxpy提供的接口。"
      ]
    },
    {
      "cell_type": "code",
      "metadata": {
        "id": "s6puS26HXNMI",
        "colab_type": "code",
        "colab": {}
      },
      "source": [
        "# !pip install cvxpy cvxopt\n",
        "import cvxpy as cp\n",
        "from scipy.optimize import linprog\n",
        "import numpy as np\n",
        "import pandas as pd"
      ],
      "execution_count": 1,
      "outputs": []
    },
    {
      "cell_type": "markdown",
      "metadata": {
        "id": "iHDET2hg1eyP",
        "colab_type": "text"
      },
      "source": [
        "# 1. 交通运输问题\n"
      ]
    },
    {
      "cell_type": "markdown",
      "metadata": {
        "id": "kiZMBjnO1m2o",
        "colab_type": "text"
      },
      "source": [
        "### a.课程中产销平衡问题的求解"
      ]
    },
    {
      "cell_type": "code",
      "metadata": {
        "id": "7-dSkwZuKmjR",
        "colab_type": "code",
        "colab": {
          "base_uri": "https://localhost:8080/",
          "height": 175
        },
        "outputId": "3cd5a728-b03d-44d0-a93e-9c7dff0de3c3"
      },
      "source": [
        "\n",
        "\n",
        "# 目标函数中各参数项的系数 Object = c^T x \n",
        "c = [6, 4, 6, 6, 5, 5]\n",
        "\n",
        "# 等式约束条件：  Ax = b\n",
        "A = [[1, 1, 1, 0, 0, 0], \n",
        "     [0, 0, 0, 1, 1, 1],\n",
        "     [1, 0, 0, 1, 0, 0],\n",
        "     [0, 1, 0, 0, 1, 0],\n",
        "     [0, 0, 1, 0, 0, 1]\n",
        "    ]\n",
        "b = [200, 300, 150, 150, 200]\n",
        "\n",
        "# X的定义域约束：\n",
        "x_bounds = [(0, None)]*6\n",
        "\n",
        "res = linprog(c, A_eq=A, b_eq=b, bounds=x_bounds, method='revised simplex')\n",
        "res"
      ],
      "execution_count": 2,
      "outputs": [
        {
          "output_type": "stream",
          "text": [
            "/usr/local/lib/python3.6/dist-packages/ipykernel_launcher.py:18: OptimizeWarning: A_eq does not appear to be of full row rank. To improve performance, check the problem formulation for redundant equality constraints.\n"
          ],
          "name": "stderr"
        },
        {
          "output_type": "execute_result",
          "data": {
            "text/plain": [
              "     con: array([0., 0., 0., 0., 0.])\n",
              "     fun: 2500.0\n",
              " message: 'Optimization terminated successfully.'\n",
              "     nit: 5\n",
              "   slack: array([], dtype=float64)\n",
              "  status: 0\n",
              " success: True\n",
              "       x: array([ 50., 150.,   0., 100.,   0., 200.])"
            ]
          },
          "metadata": {
            "tags": []
          },
          "execution_count": 2
        }
      ]
    },
    {
      "cell_type": "markdown",
      "metadata": {
        "id": "eFAK5jDx10if",
        "colab_type": "text"
      },
      "source": [
        "### b.课程中产>销问题的求解"
      ]
    },
    {
      "cell_type": "code",
      "metadata": {
        "id": "W-NaALGvcKQU",
        "colab_type": "code",
        "colab": {
          "base_uri": "https://localhost:8080/",
          "height": 157
        },
        "outputId": "a1bf0ead-2352-46b3-8614-80721f622ce5"
      },
      "source": [
        "\n",
        "\n",
        "# 目标函数中各参数项的系数 Object = c^T x \n",
        "c = [6, 4, 6, 6, 5, 5]\n",
        "\n",
        "# 等式约束条件：  Ax = b\n",
        "A = [\n",
        "     [1, 0, 0, 1, 0, 0],\n",
        "     [0, 1, 0, 0, 1, 0],\n",
        "     [0, 0, 1, 0, 0, 1]\n",
        "    ]\n",
        "b = [150, 100, 200]\n",
        "\n",
        "# 不等式约束条件: Gx <= q\n",
        "G = [\n",
        "     [1, 1, 1, 0, 0, 0], \n",
        "     [0, 0, 0, 1, 1, 1],\n",
        "    ]\n",
        "q = [200, 300]\n",
        "\n",
        "# X的定义域约束：\n",
        "x_bounds = [(0, None)]*6\n",
        "\n",
        "res = linprog(c, A_ub=G, b_ub=q, A_eq=A, b_eq=b, bounds=x_bounds, method='revised simplex')\n",
        "res\n"
      ],
      "execution_count": 3,
      "outputs": [
        {
          "output_type": "execute_result",
          "data": {
            "text/plain": [
              "     con: array([0., 0., 0.])\n",
              "     fun: 2300.0\n",
              " message: 'Optimization terminated successfully.'\n",
              "     nit: 7\n",
              "   slack: array([ 0., 50.])\n",
              "  status: 0\n",
              " success: True\n",
              "       x: array([100., 100.,   0.,  50.,   0., 200.])"
            ]
          },
          "metadata": {
            "tags": []
          },
          "execution_count": 3
        }
      ]
    },
    {
      "cell_type": "markdown",
      "metadata": {
        "id": "EkCVsgiV15W3",
        "colab_type": "text"
      },
      "source": [
        "### c.课程中多物品运输问题的求解"
      ]
    },
    {
      "cell_type": "code",
      "metadata": {
        "id": "eUP4j3SWtDCX",
        "colab_type": "code",
        "colab": {
          "base_uri": "https://localhost:8080/",
          "height": 175
        },
        "outputId": "ef4b5bed-f95b-47c7-96c3-8305f73b23a4"
      },
      "source": [
        "\n",
        "\n",
        "# 目标函数中各参数项的系数 Object = c^T x \n",
        "c = [6, 4, 6, 6, 5, 5, 3, 5, 2, 9, 3, 4]\n",
        "\n",
        "# 等式约束条件：  Ax = b\n",
        "A = [\n",
        "     [1, 0, 0, 1, 0, 0, 0, 0, 0, 0, 0, 0],\n",
        "     [0, 1, 0, 0, 1, 0, 0, 0, 0, 0, 0, 0],\n",
        "     [0, 0, 1, 0, 0, 1, 0, 0, 0, 0, 0, 0],\n",
        "     [0, 0, 0, 0, 0, 0, 1, 0, 0, 1, 0, 0],\n",
        "     [0, 0, 0, 0, 0, 0, 0, 1, 0, 0, 1, 0],\n",
        "     [0, 0, 0, 0, 0, 0, 0, 0, 1, 0, 0, 1],\n",
        "    ]\n",
        "b = [150, 150, 200, 50, 300, 250]\n",
        "\n",
        "# 不等式约束条件: Gx <= q\n",
        "G = [\n",
        "     [1, 1, 1, 0, 0, 0, 0, 0, 0, 0, 0, 0], \n",
        "     [0, 0, 0, 1, 1, 1, 0, 0, 0, 0, 0, 0],\n",
        "     [0, 0, 0, 0, 0, 0, 1, 1, 1, 0, 0, 0], \n",
        "     [0, 0, 0, 0, 0, 0, 0, 0, 0, 1, 1, 1],\n",
        "    ]\n",
        "q = [200, 300, 150, 500]\n",
        "\n",
        "# X的定义域约束：\n",
        "x_bounds = [(0, None)]*12\n",
        "\n",
        "res = linprog(c, A_ub=G, b_ub=q, A_eq=A, b_eq=b, bounds=x_bounds, method='revised simplex')\n",
        "res"
      ],
      "execution_count": 4,
      "outputs": [
        {
          "output_type": "execute_result",
          "data": {
            "text/plain": [
              "     con: array([0., 0., 0., 0., 0., 0.])\n",
              "     fun: 4350.0\n",
              " message: 'Optimization terminated successfully.'\n",
              "     nit: 14\n",
              "   slack: array([ 0.,  0.,  0., 50.])\n",
              "  status: 0\n",
              " success: True\n",
              "       x: array([ 50., 150.,   0., 100.,   0., 200.,  50.,   0., 100.,   0., 300.,\n",
              "       150.])"
            ]
          },
          "metadata": {
            "tags": []
          },
          "execution_count": 4
        }
      ]
    },
    {
      "cell_type": "markdown",
      "metadata": {
        "id": "lf7wGU0f19rX",
        "colab_type": "text"
      },
      "source": [
        "# 2.整数规划问题"
      ]
    },
    {
      "cell_type": "markdown",
      "metadata": {
        "id": "pYSF9xFX2DMQ",
        "colab_type": "text"
      },
      "source": [
        "### a.鸡兔同笼\n"
      ]
    },
    {
      "cell_type": "code",
      "metadata": {
        "id": "i0zzo9pn-kI5",
        "colab_type": "code",
        "colab": {
          "base_uri": "https://localhost:8080/",
          "height": 70
        },
        "outputId": "8114ba5f-0e30-4f78-af44-49f1639d0a7e"
      },
      "source": [
        "X = cp.Variable(3, integer=True)\n",
        "\n",
        "objective = cp.Minimize(cp.sum(X[1:]))\n",
        "constraints = [\n",
        "               cp.sum(X) == 32, # 头\n",
        "               cp.sum(X * np.array([2, 4, 8])) == 80, # Jio\n",
        "               X >= 0\n",
        "]\n",
        "\n",
        "prob = cp.Problem(objective, constraints)\n",
        "res = prob.solve()\n",
        "print(\"Min y+z: \", res)\n",
        "print(\"x, y, z = \")\n",
        "print(X.value)"
      ],
      "execution_count": 5,
      "outputs": [
        {
          "output_type": "stream",
          "text": [
            "Min y+z:  4.0\n",
            "x, y, z = \n",
            "[28.  2.  2.]\n"
          ],
          "name": "stdout"
        }
      ]
    },
    {
      "cell_type": "markdown",
      "metadata": {
        "id": "7xhYQLMr2HvX",
        "colab_type": "text"
      },
      "source": [
        "### b.背包问题"
      ]
    },
    {
      "cell_type": "code",
      "metadata": {
        "id": "fQ2dSiPLiJqn",
        "colab_type": "code",
        "colab": {
          "base_uri": "https://localhost:8080/",
          "height": 70
        },
        "outputId": "dfa13af2-c6f9-4a59-8c45-d9505c7b3bae"
      },
      "source": [
        "X = cp.Variable(4, boolean=True)\n",
        "\n",
        "objective = cp.Maximize(cp.sum(X * np.array([16, 19, 23, 28])))\n",
        "constraints = [\n",
        "               cp.sum(X * np.array([30, 35, 51, 72])) <= 100, # 体积\n",
        "               cp.sum(X * np.array([2, 3, 4, 5])) <= 7, # 重量\n",
        "]\n",
        "\n",
        "prob = cp.Problem(objective, constraints)\n",
        "res = prob.solve()\n",
        "print(\"Max value : \", res)\n",
        "print(\"x, y, z, w = \")\n",
        "print(X.value)"
      ],
      "execution_count": 6,
      "outputs": [
        {
          "output_type": "stream",
          "text": [
            "Max value :  42.0\n",
            "x, y, z, w = \n",
            "[0. 1. 1. 0.]\n"
          ],
          "name": "stdout"
        }
      ]
    },
    {
      "cell_type": "markdown",
      "metadata": {
        "id": "277mE45T2O2I",
        "colab_type": "text"
      },
      "source": [
        "### c.饮食规划"
      ]
    },
    {
      "cell_type": "code",
      "metadata": {
        "id": "nCtQPTBbZscp",
        "colab_type": "code",
        "colab": {
          "base_uri": "https://localhost:8080/",
          "height": 368
        },
        "outputId": "37dcdb8a-6b3b-426e-b947-d6f423fa8720"
      },
      "source": [
        "\n",
        "nutrients = [\"Calory\", \"Carbo\", \"Protein\", \"VitA\", \"VitC\", \"Calc\", \"Iron\"]\n",
        "food = [\"芝士牛肉堡\", \"马卡龙\", \"巨无霸\", \"FFilet\", \"鸡肉\", \"炸薯条\", \"麦满分\", \"1%LF Milk\", \"橙汁\"]\n",
        "\n",
        "intake_thred = np.array([\n",
        "                         (2000, None),\n",
        "                         (350, 375),\n",
        "                         (55, None),\n",
        "                         (100, None),\n",
        "                         (100, None),\n",
        "                         (100, None),\n",
        "                         (100, None),\n",
        "])\n",
        "\n",
        "food_prices = np.array([\n",
        "                   1.84,\n",
        "                   2.19,\n",
        "                   1.84,\n",
        "                   1.44,\n",
        "                   2.29,\n",
        "                   0.77,\n",
        "                   1.29,\n",
        "                   0.60,\n",
        "                   0.72\n",
        "])\n",
        "\n",
        "content_nutri = np.array([\n",
        "                          (510, 34, 28, 15,  6, 30, 20),\n",
        "                          (370, 35, 24, 15, 10, 20, 20),\n",
        "                          (500, 42, 25,  6,  2, 25, 20),\n",
        "                          (370, 38, 14,  2,  0, 15, 10),\n",
        "                          (400, 42, 31,  8, 15, 15,  8),\n",
        "                          (220, 26,  3,  0, 15,  0,  2),\n",
        "                          (345, 27, 15,  4,  0, 20, 15),\n",
        "                          (110, 12,  9, 10,  4, 30,  0),\n",
        "                          ( 80, 20,  1,  2, 120, 2,  2)\n",
        "])\n",
        "\n",
        "# 我们来看调整最大热量摄入的不同结果：\n",
        "\n",
        "for max_calory in [None, 3500, 3000, 2500]:\n",
        "    intake_thred[0] = (intake_thred[0][0], max_calory)\n",
        "    \n",
        "    y = cp.Variable(len(food), boolean=True)\n",
        "    x = cp.Variable(len(food))\n",
        "    v = cp.Variable()\n",
        "    z = cp.Variable(len(nutrients))\n",
        "\n",
        "    objective = cp.Maximize(cp.sum(y))\n",
        "\n",
        "\n",
        "    # 营养成分摄入量的约束\n",
        "    constraints = [ z[j] == cp.sum(x * content_nutri[:, j]) for j in range(len(nutrients))]\n",
        "    constraints += [ z[j] >= intake_thred[j][0] for j in range(len(nutrients)) if not intake_thred[j][0] is None]\n",
        "    constraints += [ intake_thred[j][1] >= z[j] for j in range(len(nutrients)) if not intake_thred[j][1] is None]\n",
        "\n",
        "    # 其他约束\n",
        "    constraints += [\n",
        "                  x >= 0,\n",
        "                  x >= y,\n",
        "                  v == cp.sum(food_prices * x),\n",
        "    ]\n",
        "\n",
        "    # 不想喝太多液体的话，那就加这个约束吧！\n",
        "    # constraints += [\n",
        "    #                y[7] + y[8] <= 1\n",
        "    # ]\n",
        "\n",
        "    prob = cp.Problem(objective, constraints)\n",
        "\n",
        "    result = prob.solve()\n",
        "    print(\"最大热量摄入： {}卡\".format(max_calory))\n",
        "    print(\"最多可吃食物种类：{:d}\".format(int(result)))\n",
        "    print(\"吃的食物：\", [fn for choose, fn in zip(y.value, food) if choose])\n",
        "    print(\"花钱：${:.2f}\".format(v.value))\n",
        "    print(\"-\"*50)"
      ],
      "execution_count": 7,
      "outputs": [
        {
          "output_type": "stream",
          "text": [
            "最大热量摄入： None卡\n",
            "最多可吃食物种类：9\n",
            "吃的食物： ['芝士牛肉堡', '马卡龙', '巨无霸', 'FFilet', '鸡肉', '炸薯条', '麦满分', '1%LF Milk', '橙汁']\n",
            "花钱：$16.47\n",
            "--------------------------------------------------\n",
            "最大热量摄入： 3500卡\n",
            "最多可吃食物种类：9\n",
            "吃的食物： ['芝士牛肉堡', '马卡龙', '巨无霸', 'FFilet', '鸡肉', '炸薯条', '麦满分', '1%LF Milk', '橙汁']\n",
            "花钱：$16.30\n",
            "--------------------------------------------------\n",
            "最大热量摄入： 3000卡\n",
            "最多可吃食物种类：6\n",
            "吃的食物： ['芝士牛肉堡', '马卡龙', '巨无霸', '麦满分', '1%LF Milk', '橙汁']\n",
            "花钱：$15.75\n",
            "--------------------------------------------------\n",
            "最大热量摄入： 2500卡\n",
            "最多可吃食物种类：3\n",
            "吃的食物： ['马卡龙', '1%LF Milk', '橙汁']\n",
            "花钱：$16.67\n",
            "--------------------------------------------------\n"
          ],
          "name": "stdout"
        }
      ]
    },
    {
      "cell_type": "markdown",
      "metadata": {
        "id": "AIS9r6Rn2UPp",
        "colab_type": "text"
      },
      "source": [
        "### c.选书问题"
      ]
    },
    {
      "cell_type": "code",
      "metadata": {
        "id": "Euf3FBiXpS_N",
        "colab_type": "code",
        "colab": {}
      },
      "source": [
        "# data\n",
        "# !wget https://raw.githubusercontent.com/AnnaNican/optimizers/master/goodreads_bestsellers.csv\n",
        "# !ls"
      ],
      "execution_count": 8,
      "outputs": []
    },
    {
      "cell_type": "code",
      "metadata": {
        "id": "UcU5clvawWpr",
        "colab_type": "code",
        "colab": {
          "base_uri": "https://localhost:8080/",
          "height": 34
        },
        "outputId": "7e7826e1-729e-4f61-cffc-4cb63291ecbe"
      },
      "source": [
        "df = pd.read_csv('goodreads_bestsellers.csv')\n",
        "book_titles = df.book_name\n",
        "ratings = df.iloc[:, 7].values\n",
        "pages = df.pages.values\n",
        "\n",
        "gamma = 0.1\n",
        "\n",
        "x = cp.Variable(df.shape[0], boolean=True)\n",
        "rx = ratings * x\n",
        "objective = cp.Maximize(cp.sum(x) * gamma + cp.sum(rx) * (1 - gamma))\n",
        "\n",
        "constraints = [\n",
        "        cp.sum(pages * x) <= 60 * 5 * 52\n",
        "]\n",
        "\n",
        "prob = cp.Problem(objective, constraints)\n",
        "\n",
        "result = prob.solve()\n",
        "print(\"最多可看{:d}本\".format(int(np.sum(x.value))))"
      ],
      "execution_count": 9,
      "outputs": [
        {
          "output_type": "stream",
          "text": [
            "最多可看45本\n"
          ],
          "name": "stdout"
        }
      ]
    },
    {
      "cell_type": "code",
      "metadata": {
        "id": "S4c3Kp5v1U1o",
        "colab_type": "code",
        "colab": {
          "base_uri": "https://localhost:8080/",
          "height": 843
        },
        "outputId": "6b9240b5-52b0-4023-c539-6ddb7cd032fe"
      },
      "source": [
        "print(\"看这几本书\")\n",
        "print(book_titles[x.value == 1])"
      ],
      "execution_count": 10,
      "outputs": [
        {
          "output_type": "stream",
          "text": [
            "看这几本书\n",
            "1                                The Fault in Our Stars\n",
            "2                                       The Nightingale\n",
            "3                                 The Girl on the Train\n",
            "5                                          Orphan Train\n",
            "9                                The Invention of Wings\n",
            "10                                        Me Before You\n",
            "12                                          Sarah's Key\n",
            "13                                          Before I Go\n",
            "16    As Chimney Sweepers Come to Dust (Flavia de Lu...\n",
            "21                                       Station Eleven\n",
            "22    Be Careful What You Wish For (The Clifton Chro...\n",
            "23                         Memory Man (Amos Decker, #1)\n",
            "24                  The Burning Room (Harry Bosch, #19)\n",
            "25                   Obsession in Death (In Death, #40)\n",
            "29                   Last to Die (Rizzoli & Isles, #10)\n",
            "30                    First Frost (Waverley Family, #2)\n",
            "33    Mightier Than the Sword (The Clifton Chronicle...\n",
            "36                                      The Boston Girl\n",
            "37                        Dead Heat (Alpha & Omega, #4)\n",
            "38                  Rain on the Dead (Sean Dillon, #21)\n",
            "39                       Crash & Burn (Tessa Leoni, #3)\n",
            "41                     Die Again (Rizzoli & Isles, #11)\n",
            "42         Insatiable Appetites (Stone Barrington, #32)\n",
            "43                        Hope to Die (Alex Cross, #22)\n",
            "44                                     The Third Target\n",
            "45                                         Trust No One\n",
            "46                           Saint Odd (Odd Thomas, #7)\n",
            "49                                            The Fixer\n",
            "50                                   Our Souls at Night\n",
            "52                                     The Buried Giant\n",
            "54                           The Aureole of Enchantment\n",
            "57                                         Redeployment\n",
            "58    Dreaming Spies (Mary Russell and Sherlock Holm...\n",
            "60             The Empty Throne (The Saxon Stories, #8)\n",
            "62                    No Fortunate Son (Pike Logan, #7)\n",
            "63                  Golden Son (Red Rising Trilogy, #2)\n",
            "64     Trigger Warning: Short Fictions and Disturbances\n",
            "66                                    The First Bad Man\n",
            "69                                           The Whites\n",
            "71                                         Prodigal Son\n",
            "72    Double Fudge Brownie Murder (Hannah Swensen, #18)\n",
            "73                       Hush Hush (Tess Monaghan, #12)\n",
            "75                       Radiant Angel (John Corey, #7)\n",
            "78           14th Deadly Sin (WomenÍs Murder Club, #14)\n",
            "80                      Piranha (The Oregon Files, #10)\n",
            "Name: book_name, dtype: object\n"
          ],
          "name": "stdout"
        }
      ]
    }
  ]
}