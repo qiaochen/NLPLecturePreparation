{
 "cells": [
  {
   "cell_type": "markdown",
   "metadata": {},
   "source": [
    "# EM parameter estimation for Mixture of Beta Binomial Distribution \n",
    "## Chen Qiao, June 5th, 2020"
   ]
  },
  {
   "cell_type": "markdown",
   "metadata": {},
   "source": [
    "## Derivations of EM steps for Mixture of Beta Binomial Distribution\n",
    "\n",
    "- Beta-Binomial Distribution (BB): \n",
    "$$\n",
    "\\begin{align}\n",
    "p(y^{(i)} | \\theta) &= \\int_{0}^{(1)}Bin(n^{(i)},p) \\cdot Beta(\\alpha, \\beta) dp \\\\\n",
    "                &= {{n^{(i)}}\\choose{y^{(i)}}}\\frac{1}{B(\\alpha,\\beta)} \\int_{0}^{1} p^{y^{(i)}+ \\alpha -1} (1-p)^{n^{(i)} - y^{(i)} + \\beta - 1} dp   \\\\\n",
    "                &= {{n^{(i)}}\\choose{y^{(i)}}}\\frac{B(y^{(i)}+\\alpha, n^{(i)}-y^{(i)}+\\beta)}{B(\\alpha, \\beta)}\n",
    "\\end{align}\n",
    "$$\n",
    "\n",
    "- Mixture of Beta-Binomial Distribution (MBB), joint probablility, suppose there are K components, and let the variables be $\\mathbf{\\gamma} = [\\gamma_{0}, \\gamma_{1}, ..., \\gamma_{k}, \\gamma_{K}]$, $\\gamma_{k} \\text{~} Bin(1, \\pi_k)$:\n",
    "$$\n",
    "\\begin{align}\n",
    "p(y^{(i)}, \\gamma^{(i)} | \\theta, \\pi) &= \\prod_{k=1}^{K} p(y^{(i)}, \\gamma_{k}^{(i)}| \\theta_{k}, \\pi_k)^{\\gamma^{(i)}_k} \\\\\n",
    "                                                      &= \\prod_{k=1}^{K} \\{p(y^{(i)} | \\theta_{k}) \\pi_k \\}^{\\gamma_k^{(i)}}\n",
    "\\end{align}\n",
    "$$\n",
    "\n",
    "- Log likelihood of the full data (MBB):\n",
    "$$\n",
    "\\begin{align}\n",
    "\\log p(y^{(i)}, \\gamma^{(i)} | \\theta, \\pi) &= \\sum_{k=1}^{K} \\bigg \\{ \\gamma^{(i)}_k \\big(\\log\\pi_k + \\log p(y^{(i)} | \\theta_{k}) \\big)\n",
    "\\bigg\\} \n",
    "\\end{align}\n",
    "$$"
   ]
  },
  {
   "cell_type": "markdown",
   "metadata": {},
   "source": [
    "## E step:\n",
    "\n",
    "$$\n",
    "\\begin{align}\n",
    "E_{\\gamma^{(i)}_k \\text{~} p(\\gamma_k|y^{(i)}, \\pi_k)}[\\log p(y^{(i)}, \\gamma^{(i)}] &= E\\bigg[\\sum_{k=1}^{K} \\big \\{ \\gamma^{(i)}_k \\big(\\log\\pi_k + \\log p(y^{(i)} | \\theta_k) \\big)\\big\\} \\bigg] \\\\\n",
    "                      &= \\sum_{k=1}^{K} \\big \\{ E[\\gamma^{(i)}_k] \\big(\\log\\pi_k + \\log p(y^{(i)} | \\theta_k) \\big)\\big\\} \\\\\n",
    "\\end{align}\n",
    "$$\n",
    "\n",
    "\n",
    "As:\n",
    "$$\n",
    "\\begin{align}\n",
    "\\bar{\\gamma}_k^{(i)} = E(\\gamma^{(i)}_k|y^{(i)}, \\theta, \\pi_k) &= p(\\gamma_k = 1| y^{(i)}, \\theta, \\pi_k)   \\text(- Expection of Bernoulli distribution)\\\\\n",
    "                                       &= \\frac{p(\\gamma^{(i)}_k=1, y^{(i)}| \\theta, \\pi_k)}{\\sum_{k=1}^{K}p(\\gamma_k^{(i)}=1, y^{(i)}| \\theta, \\pi_k)} \\\\\n",
    "                                       &= \\frac{p(y^{(i)}|\\gamma^{(i)}_k=1, \\theta, \\pi_k) \\cdot p(\\gamma^{(i)}_k=1|\\pi_k)}{\\sum_{k=1}^{K}p(y^{(i)}|\\gamma^{(i)}_k=1, \\theta, \\pi_k) \\cdot p(\\gamma^{(i)}_k=1|\\pi_k)} \\\\\n",
    "                                       &= \\frac{ {{n^{(i)}}\\choose{y^{(i)}}} \\frac{B(y^{(i)} + \\alpha_k, n^{(i)}-y^{(i)} + \\beta_k)}{B(\\alpha_k, \\beta_k)} \\cdot \\pi_k}{ \\sum_{k=1}^{K}{{n^{(i)}}\\choose{y^{(i)}}} \\frac{B(y^{(i)} + \\alpha_k, n^{(i)}-y^{(i)} + \\beta_k)}{B(\\alpha_k, \\beta_k)} \\cdot \\pi_k} \\\\\n",
    "                                       &= \\frac{\\frac{B(y^{(i)} + \\alpha_k, n^{(i)}-y^{(i)} + \\beta_k)}{B(\\alpha_k, \\beta_k)} \\cdot \\pi_k}{ \\sum_{k=1}^{K} \\frac{B(y^{(i)} + \\alpha_k, n^{(i)}-y^{(i)} + \\beta_k)}{B(\\alpha_k, \\beta_k)} \\cdot \\pi_k}\n",
    "\\end{align}\n",
    "$$\n",
    "\n",
    "## M step\n",
    "M-step hence is to optimize:\n",
    "\n",
    "$$\n",
    " \\max_{\\pi, \\theta}\\bigg\\{\\sum_{k=1}^{K} \\big \\{ \\bar{\\gamma}_k^{(i)} \\big(\\log\\pi_k + \\log p(y^{(i)} | \\theta_k) \\big)\\big\\} \\bigg\\} \\\\\n",
    " = \\max_{\\pi, \\theta}\\bigg\\{ \\sum_{k=1}^{K} \\big \\{ \\bar{\\gamma}_k^{(i)} \\big(\\log\\pi_k + \\log{{n^{(i)}}\\choose{y^{(i)}}} + \\log B(y^{(i)}+\\alpha_k, n^{(i)}-y^{(i)}+\\beta_k) - \\log{B(\\alpha_k, \\beta_k)} \\big)\\big\\} \\bigg\\} \\\\\n",
    "s.t. \\sum_{k=1}^{K} \\pi_k = 1, \\\\ \\pi_k \\geq 0, k=1,...,K\\\\ \\alpha > 0, \\\\ \\beta > 0\n",
    "$$\n",
    "\n",
    "\n",
    "Using all the data points:\n",
    "\n",
    "$$\n",
    "\\max_{\\pi, \\theta}\\bigg\\{ \\sum_{i=1}^{N}\\sum_{k=1}^{K} \\big \\{ \\bar{\\gamma}_k^{(i)} \\big(\\log\\pi_k + \\log{{n^{(i)}}\\choose{y^{(i)}}} + \\log B(y^{(i)}+\\alpha_k, n^{(i)}-y^{(i)}+\\beta_k) - \\log{B(\\alpha_k, \\beta_k)} \\big)\\big\\} \\bigg\\} \\\\\n",
    "s.t. \\sum_{k=1}^{K} \\pi_k = 1 \\\\ \\pi_k \\geq 0, k=1,...,K \\\\ \\alpha > 0, \\\\ \\beta > 0\n",
    "$$"
   ]
  },
  {
   "cell_type": "markdown",
   "metadata": {},
   "source": [
    "## Mixture of Binomial\n",
    "\n",
    "- Q function:\n",
    "$$\n",
    "\\begin{align}\n",
    "E_{\\gamma^{(i)}_k \\text{~} P(\\gamma_k;y^{(i)}, \\pi_k)}[\\sum_{i=1}^{N} \\log p(y^{(i)}, \\gamma^{(i)}_k|n^{(i)}, p_k, \\pi_k)] &= \\sum_{i=1}^{N} \\sum_{k=1}^K E[\\gamma^{(i)}_k] \\big [ \\log {{n^{(i)}}\\choose{y^{(i)}}} + y^{(i)} \\log(p_k) + (n^{(i)}-y^{(i)}) \\log(1-p_k) + \\log \\pi_k \\big]\n",
    "\\end{align}\n",
    "$$\n",
    "\n",
    "- E step:\n",
    "$$\n",
    "\\begin{align}\n",
    "   \\bar{\\gamma}^{(i)}_k &=  E[\\gamma^{(i)}_k]\n",
    "                        &=  \\frac{p^{y^{(i)}}_k (1-p_k)^{n^{(i)}-y^{(i)}} \\cdot \\pi_k}{\\sum_{k=1}^K p^{y^{(i)}}_k (1-p_k)^{n^{(i)}-y^{(i)}} \\cdot \\pi_k}\n",
    "\\end{align}\n",
    "$$\n",
    "\n",
    "- M step, analytical solution, (construct Lagrangian using $\\sum_{k=1}^K \\pi_k = 1$, etc., solving by letting the derivations equal to zero):\n",
    "$$\n",
    "\\begin{align}\n",
    "\\pi_k &= \\frac{\\sum_{i=1}^N \\bar{\\gamma}^{(i)}_k}{\\sum_{i=1}^{N} \\sum_{k=1}^K \\bar{\\gamma}^{(i)}_k} \\\\\n",
    "      &= \\frac{\\sum_{i=1}^N \\bar{\\gamma}^{(i)}_k}{N} \\\\\n",
    "p_k &= \\frac{\\sum_{i=1}^{N} y^{{(i)}}\\bar{\\gamma}^{(i)}_k}{\\sum_{i=1}^{N} n^{{(i)}}\\bar{\\gamma}^{(i)}_k}\n",
    "\\end{align}\n",
    "$$"
   ]
  },
  {
   "cell_type": "code",
   "execution_count": 1,
   "metadata": {},
   "outputs": [],
   "source": [
    "import numpy as np\n",
    "from scipy.special import beta, comb, gammaln, logsumexp\n",
    "from scipy.optimize import minimize\n",
    "from sklearn.cluster import KMeans\n",
    "from scipy.stats import betabinom, bernoulli, binom\n",
    "import sys, time\n",
    "import matplotlib.pyplot as plt\n",
    "np.random.seed(42)"
   ]
  },
  {
   "cell_type": "code",
   "execution_count": 2,
   "metadata": {},
   "outputs": [],
   "source": [
    "class MixtureBinomial:\n",
    "    \n",
    "    def __init__(self, \n",
    "                 n_components=2,\n",
    "                 max_m_step_iter=250,\n",
    "                 tor=1e-12\n",
    "                ):\n",
    "        super(MixtureBinomial, self).__init__()\n",
    "        self.n_components = n_components\n",
    "        self.tor = tor\n",
    "        self.params = None\n",
    "        self.losses = None\n",
    "        \n",
    "    def _E_step(self, data, params):\n",
    "        y, n = data\n",
    "        E_gammas = [None]*self.n_components\n",
    "        for k in range(self.n_components):\n",
    "            p_k, pi_k = params[k], params[k+self.n_components]\n",
    "            E_gammas[k] = y * np.log(p_k) + (n - y) * np.log(1 - p_k) + np.log(pi_k)\n",
    "            \n",
    "        # normalize as they havn't been\n",
    "        E_gammas = E_gammas - logsumexp(E_gammas, axis=0)\n",
    "        return np.exp(E_gammas)\n",
    "    \n",
    "    def _M_step(self, data, E_gammas, params):\n",
    "        y, n = data\n",
    "        N_samples = len(n)\n",
    "        for k in range(self.n_components):\n",
    "            params[k] = np.sum(y * E_gammas[k]) / np.sum(n * E_gammas[k])\n",
    "            params[k+self.n_components] = np.sum(E_gammas[k]) / N_samples\n",
    "        return params\n",
    "    \n",
    "    def log_likelihood_binomial(self, y, n, p, pi=1):\n",
    "        return gammaln(n+1) - (gammaln(y+1) + gammaln(n-y+1)) \\\n",
    "                   + y * np.log(p) + (n - y) * np.log(1 - p) + np.log(pi)\n",
    "    \n",
    "    def log_likelihood_mixture_bin(self, params, data):\n",
    "        y, n = data\n",
    "        logLik_mat = np.zeros((len(n), self.n_components), dtype=np.float)\n",
    "        for k in range(self.n_components):\n",
    "            p_k, pi_k = params[k], params[k+self.n_components]\n",
    "            logLik_mat[:, k] = self.log_likelihood_binomial(y, n, p_k, pi_k)\n",
    "        return logsumexp(logLik_mat, axis=1).sum()\n",
    "        \n",
    "    \n",
    "    def EM(self, data, max_iters=250, early_stop=False, verbose=False):\n",
    "        \"\"\"\n",
    "        Data: tuple of lists: (y, n)\n",
    "        \"\"\"\n",
    "        # params = [p_1, p_2,..., pi_1, pi_2, ...]\n",
    "        params = np.concatenate([np.random.uniform(0.2, 0.8, self.n_components),\n",
    "                                 np.random.uniform(0.4, 0.6, self.n_components)])\n",
    "        losses = [sys.maxsize]\n",
    "        \n",
    "        if verbose:\n",
    "            print(\"Init params: {}\".format(params))\n",
    "            \n",
    "        for ith in range(max_iters):\n",
    "            \n",
    "            # E step\n",
    "            E_gammas = self._E_step(data, params)\n",
    "            \n",
    "            # M step\n",
    "            params = self._M_step(data, E_gammas, params)\n",
    "            \n",
    "            \n",
    "            # current NLL loss\n",
    "            losses.append(-self.log_likelihood_mixture_bin(params, data))\n",
    "            \n",
    "            if verbose:\n",
    "                print(\"=\"*10, \"Iteration {}\".format(ith+1), \"=\"*10)\n",
    "                print(\"Current params: {}\".format(params))\n",
    "                print(\"Negative LogLikelihood Loss: {}\".format(losses[-1]))\n",
    "                print(\"=\"*25)\n",
    "            \n",
    "            improvement = losses[-2] - losses[-1]\n",
    "            if early_stop and improvement < self.tor:\n",
    "                print(\"Improvement halts, early stop training.\")\n",
    "                break            \n",
    "            \n",
    "        self.params = params\n",
    "        self.losses = losses[1:]\n",
    "        return params"
   ]
  },
  {
   "cell_type": "code",
   "execution_count": 3,
   "metadata": {},
   "outputs": [
    {
     "data": {
      "text/plain": [
       "(2000, 2000)"
      ]
     },
     "execution_count": 3,
     "metadata": {},
     "output_type": "execute_result"
    }
   ],
   "source": [
    "## simulation experiment\n",
    "# sample gammars\n",
    "n_samples = 2000\n",
    "n_trials = 1000\n",
    "pis = [0.6, 0.4]\n",
    "p1, p2 = 0.4, 0.8\n",
    "\n",
    "gammars = bernoulli.rvs(pis[0], size=n_samples)\n",
    "n_pos_events = sum(gammars)\n",
    "n_neg_events = n_samples - n_pos_events\n",
    "\n",
    "ys_of_type1 = binom.rvs(n_trials, p1, size=n_pos_events)\n",
    "ys_of_type2 = binom.rvs(n_trials, p2, size=n_neg_events)\n",
    "\n",
    "\n",
    "ys = np.concatenate((ys_of_type1, ys_of_type2))\n",
    "ns = np.ones(n_samples, dtype=np.int) * n_trials\n",
    "len(ys), len(ns)"
   ]
  },
  {
   "cell_type": "code",
   "execution_count": 4,
   "metadata": {},
   "outputs": [
    {
     "name": "stdout",
     "output_type": "stream",
     "text": [
      "Improvement halts, early stop training.\n",
      "[0.79918115 0.399541   0.4085     0.5915    ]\n",
      "0.4 0.8 [0.6, 0.4]\n",
      "Final training loss: 9546.312718428653\n"
     ]
    },
    {
     "data": {
      "image/png": "[encoded data removed]",
      "text/plain": [
       "<Figure size 432x288 with 1 Axes>"
      ]
     },
     "metadata": {
      "needs_background": "light"
     },
     "output_type": "display_data"
    }
   ],
   "source": [
    "em_mb = MixtureBinomial(\n",
    "     n_components=2,\n",
    "     max_m_step_iter=250,\n",
    "     tor=1e-20)\n",
    "\n",
    "# t = time.time()\n",
    "params = em_mb.EM((ys, ns), max_iters=250, early_stop=True)\n",
    "print(params)\n",
    "print(p1, p2, pis)\n",
    "plt.subplot(1, 1, 1)\n",
    "plt.plot(em_mb.losses)\n",
    "print(\"Final training loss: {}\".format(em_mb.losses[-1]))\n",
    "# print(\"Time cost: {}\".format(time.time() - t))\n",
    "plt.title(\"NLL: MixBin\")\n",
    "plt.show()"
   ]
  },
  {
   "cell_type": "code",
   "execution_count": 5,
   "metadata": {},
   "outputs": [],
   "source": [
    "class MixtureBetaBinomial:\n",
    "    \n",
    "    def __init__(self, \n",
    "                 n_components=2,\n",
    "                 max_m_step_iter=250,\n",
    "                 tor=1e-12\n",
    "                ):\n",
    "        super(MixtureBetaBinomial, self).__init__()\n",
    "        self.n_components = n_components\n",
    "        self.max_m_step_iter = max_m_step_iter\n",
    "        self.tor = tor\n",
    "        self.params = None\n",
    "        \n",
    "    def log_likelihood_betabin(self, y, n, a, b, pi=1):\n",
    "        \"\"\"\n",
    "        logLikelihood of betabinomial distribution\n",
    "        \"\"\"\n",
    "        return gammaln(y+a) + gammaln(n-y+b) + gammaln(a+b) - \\\n",
    "            (gammaln(a) + gammaln(b) + gammaln(n+a+b)) + np.log(pi)\n",
    "\n",
    "    def log_likelihood_mixbetabin(self, data, params):\n",
    "        \"\"\"\n",
    "        loglikelihood of betabinomial mixture model\n",
    "        \"\"\"\n",
    "        y, n = data\n",
    "        logLik_mat = np.zeros((len(data[0]), self.n_components), dtype=float)\n",
    "        for i in range(self.n_components):\n",
    "            a, b, pi = params[i], params[i+self.n_components], params[i+2*self.n_components]\n",
    "            logLik_mat[:, i] = self.log_likelihood_betabin(y, n, a, b, pi)\n",
    "        return logsumexp(logLik_mat, axis=1).sum()    \n",
    "\n",
    "\n",
    "    def _E_step(self, data, params):\n",
    "        y, n = data\n",
    "        log_E_gammas = [None] * self.n_components\n",
    "        for k in range(self.n_components):\n",
    "            a, b, pi = params[k], params[k+self.n_components], params[k+2*self.n_components]\n",
    "            log_E_gammas[k] = np.log(pi) + gammaln(y+a) + gammaln(n-y+b) + gammaln(a+b) - \\\n",
    "                    (gammaln(a) + gammaln(b) + gammaln(n+a+b))\n",
    "            \n",
    "        # normalize as they havn't been\n",
    "        log_E_gammas = log_E_gammas - logsumexp(log_E_gammas, axis=0)\n",
    "        return np.exp(log_E_gammas)\n",
    "    \n",
    "    def _M_step(self, data, E_gammas, params):\n",
    "        constraints = self._get_constraints()\n",
    "        bounds = self._get_bounds()\n",
    "        nll_fun = self._get_nnl_fun()\n",
    "        res = minimize(nll_fun, x0=params,\n",
    "                args=(data, E_gammas, self.n_components),\n",
    "                bounds=bounds,\n",
    "                method='SLSQP',\n",
    "                options={'disp': False, 'maxiter': self.max_m_step_iter},\n",
    "                constraints=constraints #  for solvers: COBYLA, SLSQP and trust-constr\n",
    "                )\n",
    "        return res\n",
    "    \n",
    "    def _get_constraints(self):\n",
    "        constraints = ({'type':'eq', 'fun': lambda params: np.sum(params[2*self.n_components:]) - 1})\n",
    "        return constraints\n",
    "    \n",
    "    def _get_bounds(self):\n",
    "        bounds = [(0, None)]* (3*self.n_components)\n",
    "        return tuple(bounds)\n",
    "    \n",
    "    \n",
    "    def _get_nnl_fun(self):\n",
    "        def neg_log_likelihood(params, *args):\n",
    "            \"\"\"\n",
    "            params: 1-D arrays: [a_0, a_1, a_2, ..., b_0, b_1, b_2, ..., pi_0, pi_1, pi_2,...]\n",
    "            args: list of function arguments, \n",
    "                args[0] is the data: tuple of list (y, n)\n",
    "                args[1] is \\hat{\\gamma}, expectation of the latent variables\n",
    "                args[2] is number of components, int\n",
    "            \"\"\"\n",
    "            y, n = args[0]\n",
    "            E_gammas = args[1]\n",
    "            n_components = args[2]\n",
    "\n",
    "        #     log_likelihood = 0\n",
    "        #     for i in range(n_components):\n",
    "        #         a, b, pi = params[i], params[i+n_components], params[i+2*n_components]\n",
    "        #         E_gamma_k = E_gammas[i]\n",
    "        #         log_pdf =  E_gamma_k * (np.log(pi) + np.log(comb(n, y)) + np.log(beta(y + a, n - y + b)) - np.log(beta(a, b)))\n",
    "        #         log_likelihood += np.sum(log_pdf)\n",
    "\n",
    "            # numerical stabler computation when n and y are very large\n",
    "            # https://en.wikipedia.org/wiki/Beta-binomial_distribution#Beta-binomial_distribution_as_a_compound_distribution\n",
    "            log_likelihood = 0\n",
    "            for i in range(n_components):\n",
    "                a, b, pi = params[i], params[i+n_components], params[i+2*n_components]\n",
    "                E_gamma_k = E_gammas[i]\n",
    "                log_pdf = E_gamma_k * (np.log(pi) + gammaln(n+1) + gammaln(y+a) + gammaln(n-y+b) + gammaln(a+b) - \\\n",
    "                 (gammaln(y+1) + gammaln(n-y+1) + gammaln(a) + gammaln(b) + gammaln(n+a+b)))\n",
    "                log_likelihood += np.sum(log_pdf)\n",
    "            return -log_likelihood\n",
    "        \n",
    "        return neg_log_likelihood\n",
    "    \n",
    "    def _perturbate(self, array):\n",
    "        array += np.random.uniform(-0.025, 0.025, np.shape(array))\n",
    "        while np.any(array) < 0 or np.any(array) > 1:\n",
    "            array += np.random.uniform(-0.025, 0.025, np.shape(array))\n",
    "        return array\n",
    "    \n",
    "    def _init_with_kmeans(self, y, n):\n",
    "        sample_size = len(y)\n",
    "        proportions = y / n\n",
    "        kmeans = KMeans(\n",
    "            n_clusters=self.n_components,\n",
    "            max_iter=500,\n",
    "            random_state=44\n",
    "           )\n",
    "        kmeans.fit(proportions.reshape(-1,1))\n",
    "        gammars = np.zeros((sample_size, self.n_components), dtype=np.float) \n",
    "        gammars[range(sample_size), kmeans.labels_] = 1.0\n",
    "        \n",
    "        pi = np.sum(gammars, axis=0)\n",
    "        pi = pi / np.sum(pi)\n",
    "        \n",
    "        params = np.concatenate([np.random.uniform(0.6, 0.9, self.n_components), \n",
    "                                 np.random.uniform(0.6, 0.9, self.n_components),\n",
    "                                 pi])\n",
    "        \n",
    "        return self._perturbate(gammars.T), params\n",
    "    \n",
    "    def _init_with_mixbin(self, y, n):\n",
    "        sample_size = len(y)\n",
    "        em_mb = MixtureBinomial(\n",
    "                 n_components=self.n_components,\n",
    "                 tor=1e-6,\n",
    "                 )\n",
    "        mb_params = em_mb.EM((ys, ns), max_iters=50, early_stop=True)\n",
    "        gammars = em_mb._E_step((y, n), mb_params)\n",
    "        \n",
    "        params = np.concatenate([np.random.uniform(0.6, 0.9, self.n_components), \n",
    "                                 np.random.uniform(0.6, 0.9, self.n_components),\n",
    "                                 mb_params[self.n_components:]\n",
    "                                ])\n",
    "        return gammars, params        \n",
    "        \n",
    "    \n",
    "    def _warm_init(self, data, init_method):\n",
    "        # set all alpha and beta to be 0.5\n",
    "        y, n = data\n",
    "        if init_method == \"kmeans\":\n",
    "            E_gammas, params = self._init_with_kmeans(y, n)\n",
    "        if init_method == \"mixbin\":\n",
    "            E_gammas, params = self._init_with_mixbin(y, n)\n",
    "            \n",
    "        if init_method:\n",
    "            return self._M_step(data, E_gammas, params).x # init\n",
    "        else:\n",
    "            params = np.array([0.9]*(2*self.n_components) + [0.5]*self.n_components, dtype=np.float)\n",
    "            return params\n",
    "        \n",
    "    \n",
    "    def EM(self, data, max_iters=250, warm_init=None, early_stop=False, verbose=False):\n",
    "        \"\"\"\n",
    "        Data: tuple of lists: (y, n)\n",
    "        \"\"\"\n",
    "        # init parameters 1) k-means for latent gammas, \n",
    "        #                 2) MLE for pis given gammas, (take proportion)\n",
    "        #                 3) MLE for alphas and betas given pis and noised gammas values\n",
    "        \n",
    "        losses = [sys.maxsize]\n",
    "        neg_log_likelihood = self._get_nnl_fun()\n",
    "        params = self._warm_init(data, warm_init)\n",
    "        \n",
    "        print(\"=\"*25)\n",
    "        print(\"Init params: {}\".format(params))\n",
    "        print(\"=\"*25)\n",
    "              \n",
    "        \n",
    "        for ith in range(max_iters):\n",
    "            \n",
    "            # E step\n",
    "            E_gammas = self._E_step(data, params)\n",
    "            \n",
    "            # M step\n",
    "            res = self._M_step(data, E_gammas, params)\n",
    "            params = res.x\n",
    "            \n",
    "            # current NLL loss\n",
    "            losses.append(-self.log_likelihood_mixbetabin(data, params))\n",
    "            \n",
    "            if verbose:\n",
    "                print(\"=\"*10, \"Iteration {}\".format(ith+1), \"=\"*10)\n",
    "                print(\"Current params: {}\".format(params))\n",
    "                print(\"Negative LogLikelihood Loss: {}\".format(losses[-1]))\n",
    "                print(\"=\"*25)\n",
    "\n",
    "            # comment out \n",
    "            improvement = losses[-2] - losses[-1]\n",
    "            if early_stop and improvement < self.tor:\n",
    "                print(\"Improvement halts, early stop training.\")\n",
    "                break            \n",
    "            \n",
    "        self.params = params\n",
    "        self.losses = losses[1:]\n",
    "        return params"
   ]
  },
  {
   "cell_type": "code",
   "execution_count": 6,
   "metadata": {},
   "outputs": [
    {
     "data": {
      "text/plain": [
       "(2000, 2000)"
      ]
     },
     "execution_count": 6,
     "metadata": {},
     "output_type": "execute_result"
    }
   ],
   "source": [
    "## simulation experiment\n",
    "# sample gammars\n",
    "n_samples = 2000\n",
    "n_trials = 1000\n",
    "pis = [0.6, 0.4]\n",
    "alphas, betas = [2, 0.9], [0.1, 5]\n",
    "\n",
    "gammars = bernoulli.rvs(pis[0], size=n_samples)\n",
    "n_pos_events = sum(gammars)\n",
    "n_neg_events = n_samples - n_pos_events\n",
    "\n",
    "ys_of_type1 = betabinom.rvs(n_trials, alphas[0], betas[0], size=n_pos_events)\n",
    "ys_of_type2 = betabinom.rvs(n_trials, alphas[1], betas[1], size=n_neg_events)\n",
    "\n",
    "\n",
    "ys = np.concatenate((ys_of_type1, ys_of_type2))\n",
    "ns = np.ones(n_samples, dtype=np.int) * n_trials\n",
    "len(ys), len(ns)"
   ]
  },
  {
   "cell_type": "code",
   "execution_count": 7,
   "metadata": {},
   "outputs": [],
   "source": [
    "em_mbb = MixtureBetaBinomial(\n",
    "     n_components=2,\n",
    "     max_m_step_iter=250,\n",
    "     tor=1e-20)"
   ]
  },
  {
   "cell_type": "code",
   "execution_count": 8,
   "metadata": {},
   "outputs": [
    {
     "name": "stdout",
     "output_type": "stream",
     "text": [
      "=========================\n",
      "Init params: [0.9 0.9 0.9 0.9 0.5 0.5]\n",
      "=========================\n"
     ]
    },
    {
     "name": "stderr",
     "output_type": "stream",
     "text": [
      "C:\\ProgramData\\Anaconda3\\lib\\site-packages\\ipykernel_launcher.py:94: RuntimeWarning: invalid value encountered in subtract\n",
      "C:\\ProgramData\\Anaconda3\\lib\\site-packages\\ipykernel_launcher.py:93: RuntimeWarning: divide by zero encountered in log\n",
      "C:\\ProgramData\\Anaconda3\\lib\\site-packages\\ipykernel_launcher.py:93: RuntimeWarning: invalid value encountered in add\n"
     ]
    },
    {
     "name": "stdout",
     "output_type": "stream",
     "text": [
      "[0.94147231 1.29685009 5.55463569 0.08757966 0.35701761 0.64298239]\n",
      "[2, 0.9] [0.1, 5] [0.6, 0.4]\n",
      "Final training loss: 400878.5158434735\n"
     ]
    },
    {
     "data": {
      "image/png": "[encoded data removed]",
      "text/plain": [
       "<Figure size 432x288 with 1 Axes>"
      ]
     },
     "metadata": {
      "needs_background": "light"
     },
     "output_type": "display_data"
    }
   ],
   "source": [
    "# t = time.time()\n",
    "params = em_mbb.EM((ys, ns), max_iters=500, warm_init=False, early_stop=False)\n",
    "print(params)\n",
    "print(alphas, betas, pis)\n",
    "plt.subplot(1, 1, 1)\n",
    "plt.plot(em_mbb.losses)\n",
    "print(\"Final training loss: {}\".format(em_mbb.losses[-1]))\n",
    "# print(\"Time cost: {}\".format(time.time() - t))\n",
    "plt.title(\"NLL: no_init\")\n",
    "plt.show()"
   ]
  },
  {
   "cell_type": "code",
   "execution_count": 9,
   "metadata": {},
   "outputs": [
    {
     "name": "stderr",
     "output_type": "stream",
     "text": [
      "C:\\ProgramData\\Anaconda3\\lib\\site-packages\\ipykernel_launcher.py:94: RuntimeWarning: invalid value encountered in subtract\n",
      "C:\\ProgramData\\Anaconda3\\lib\\site-packages\\numpy\\core\\fromnumeric.py:90: RuntimeWarning: invalid value encountered in reduce\n",
      "  return ufunc.reduce(obj, axis, dtype, out, **passkwargs)\n",
      "C:\\ProgramData\\Anaconda3\\lib\\site-packages\\ipykernel_launcher.py:93: RuntimeWarning: divide by zero encountered in log\n",
      "C:\\ProgramData\\Anaconda3\\lib\\site-packages\\ipykernel_launcher.py:93: RuntimeWarning: invalid value encountered in add\n"
     ]
    },
    {
     "name": "stdout",
     "output_type": "stream",
     "text": [
      "=========================\n",
      "Init params: [2.72735129 0.95702142 0.0951921  5.19430535 0.61486609 0.38513391]\n",
      "=========================\n",
      "[1.32571831 0.9392495  0.0877322  5.51504794 0.64185424 0.35814576]\n",
      "[2, 0.9] [0.1, 5] [0.6, 0.4]\n",
      "Final training loss: 400878.51574862585\n"
     ]
    },
    {
     "data": {
      "image/png": "[encoded data removed]",
      "text/plain": [
       "<Figure size 432x288 with 1 Axes>"
      ]
     },
     "metadata": {
      "needs_background": "light"
     },
     "output_type": "display_data"
    }
   ],
   "source": [
    "# t = time.time()\n",
    "params = em_mbb.EM((ys, ns), max_iters=500, warm_init=\"kmeans\")\n",
    "print(params)\n",
    "print(alphas, betas, pis)\n",
    "plt.subplot(1, 1, 1)\n",
    "plt.plot(em_mbb.losses)\n",
    "print(\"Final training loss: {}\".format(em_mbb.losses[-1]))\n",
    "# print(\"Time cost: {}\".format(time.time() - t))\n",
    "plt.title(\"NLL: kmeans_init\")\n",
    "plt.show()"
   ]
  },
  {
   "cell_type": "code",
   "execution_count": 10,
   "metadata": {},
   "outputs": [
    {
     "name": "stdout",
     "output_type": "stream",
     "text": [
      "Improvement halts, early stop training.\n"
     ]
    },
    {
     "name": "stderr",
     "output_type": "stream",
     "text": [
      "C:\\ProgramData\\Anaconda3\\lib\\site-packages\\ipykernel_launcher.py:94: RuntimeWarning: invalid value encountered in subtract\n",
      "C:\\ProgramData\\Anaconda3\\lib\\site-packages\\ipykernel_launcher.py:94: RuntimeWarning: invalid value encountered in multiply\n"
     ]
    },
    {
     "name": "stdout",
     "output_type": "stream",
     "text": [
      "=========================\n",
      "Init params: [3.69068322 0.8691686  0.09723802 4.12751039 0.60098276 0.39901724]\n",
      "=========================\n"
     ]
    },
    {
     "name": "stderr",
     "output_type": "stream",
     "text": [
      "C:\\ProgramData\\Anaconda3\\lib\\site-packages\\ipykernel_launcher.py:93: RuntimeWarning: divide by zero encountered in log\n",
      "C:\\ProgramData\\Anaconda3\\lib\\site-packages\\ipykernel_launcher.py:93: RuntimeWarning: invalid value encountered in add\n"
     ]
    },
    {
     "name": "stdout",
     "output_type": "stream",
     "text": [
      "[1.32353482 0.93932273 0.08771864 5.51689784 0.64193048 0.35806952]\n",
      "[2, 0.9] [0.1, 5] [0.6, 0.4]\n",
      "Final training loss: 400878.51557421853\n"
     ]
    },
    {
     "data": {
      "image/png": "[encoded data removed]",
      "text/plain": [
       "<Figure size 432x288 with 1 Axes>"
      ]
     },
     "metadata": {
      "needs_background": "light"
     },
     "output_type": "display_data"
    }
   ],
   "source": [
    "# t = time.time()\n",
    "params = em_mbb.EM((ys, ns), max_iters=500, warm_init=\"mixbin\")\n",
    "print(params)\n",
    "print(alphas, betas, pis)\n",
    "plt.subplot(1, 1, 1)\n",
    "plt.plot(em_mbb.losses)\n",
    "print(\"Final training loss: {}\".format(em_mbb.losses[-1]))\n",
    "# print(\"Time cost: {}\".format(time.time() - t))\n",
    "plt.title(\"NLL: mixbin_init\")\n",
    "plt.show()"
   ]
  }
 ],
 "metadata": {
  "kernelspec": {
   "display_name": "Python 3",
   "language": "python",
   "name": "python3"
  },
  "language_info": {
   "codemirror_mode": {
    "name": "ipython",
    "version": 3
   },
   "file_extension": ".py",
   "mimetype": "text/x-python",
   "name": "python",
   "nbconvert_exporter": "python",
   "pygments_lexer": "ipython3",
   "version": "3.7.6"
  }
 },
 "nbformat": 4,
 "nbformat_minor": 4
}
